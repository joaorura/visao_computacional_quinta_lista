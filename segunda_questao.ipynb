{
 "cells": [
  {
   "cell_type": "code",
   "execution_count": 1,
   "metadata": {},
   "outputs": [
    {
     "name": "stdout",
     "output_type": "stream",
     "text": [
      "Requirement already satisfied: torch in c:\\users\\jmess\\appdata\\local\\programs\\python\\python39\\lib\\site-packages (1.12.0)\n",
      "Requirement already satisfied: torchvision in c:\\users\\jmess\\appdata\\local\\programs\\python\\python39\\lib\\site-packages (0.13.0)\n",
      "Requirement already satisfied: torchaudio in c:\\users\\jmess\\appdata\\local\\programs\\python\\python39\\lib\\site-packages (0.12.0)\n",
      "Requirement already satisfied: pandas in c:\\users\\jmess\\appdata\\local\\programs\\python\\python39\\lib\\site-packages (1.4.3)\n",
      "Requirement already satisfied: pyYAML in c:\\users\\jmess\\appdata\\local\\programs\\python\\python39\\lib\\site-packages (6.0)\n",
      "Requirement already satisfied: tqdm in c:\\users\\jmess\\appdata\\local\\programs\\python\\python39\\lib\\site-packages (4.64.0)\n",
      "Requirement already satisfied: seaborn in c:\\users\\jmess\\appdata\\local\\programs\\python\\python39\\lib\\site-packages (0.11.2)\n",
      "Requirement already satisfied: opencv-python in c:\\users\\jmess\\appdata\\local\\programs\\python\\python39\\lib\\site-packages (4.6.0.66)\n",
      "Requirement already satisfied: numpy in c:\\users\\jmess\\appdata\\local\\programs\\python\\python39\\lib\\site-packages (1.23.1)\n",
      "Requirement already satisfied: typing-extensions in c:\\users\\jmess\\appdata\\local\\programs\\python\\python39\\lib\\site-packages (from torch) (4.3.0)\n",
      "Requirement already satisfied: pillow!=8.3.*,>=5.3.0 in c:\\users\\jmess\\appdata\\local\\programs\\python\\python39\\lib\\site-packages (from torchvision) (9.2.0)\n",
      "Requirement already satisfied: requests in c:\\users\\jmess\\appdata\\local\\programs\\python\\python39\\lib\\site-packages (from torchvision) (2.28.1)\n",
      "Requirement already satisfied: pytz>=2020.1 in c:\\users\\jmess\\appdata\\local\\programs\\python\\python39\\lib\\site-packages (from pandas) (2022.1)\n",
      "Requirement already satisfied: python-dateutil>=2.8.1 in c:\\users\\jmess\\appdata\\local\\programs\\python\\python39\\lib\\site-packages (from pandas) (2.8.2)\n",
      "Requirement already satisfied: colorama in c:\\users\\jmess\\appdata\\local\\programs\\python\\python39\\lib\\site-packages (from tqdm) (0.4.5)\n",
      "Requirement already satisfied: matplotlib>=2.2 in c:\\users\\jmess\\appdata\\local\\programs\\python\\python39\\lib\\site-packages (from seaborn) (3.5.2)\n",
      "Requirement already satisfied: scipy>=1.0 in c:\\users\\jmess\\appdata\\local\\programs\\python\\python39\\lib\\site-packages (from seaborn) (1.8.1)\n",
      "Requirement already satisfied: fonttools>=4.22.0 in c:\\users\\jmess\\appdata\\local\\programs\\python\\python39\\lib\\site-packages (from matplotlib>=2.2->seaborn) (4.34.4)\n",
      "Requirement already satisfied: kiwisolver>=1.0.1 in c:\\users\\jmess\\appdata\\local\\programs\\python\\python39\\lib\\site-packages (from matplotlib>=2.2->seaborn) (1.4.4)\n",
      "Requirement already satisfied: cycler>=0.10 in c:\\users\\jmess\\appdata\\local\\programs\\python\\python39\\lib\\site-packages (from matplotlib>=2.2->seaborn) (0.11.0)\n",
      "Requirement already satisfied: packaging>=20.0 in c:\\users\\jmess\\appdata\\local\\programs\\python\\python39\\lib\\site-packages (from matplotlib>=2.2->seaborn) (21.3)\n",
      "Requirement already satisfied: pyparsing>=2.2.1 in c:\\users\\jmess\\appdata\\local\\programs\\python\\python39\\lib\\site-packages (from matplotlib>=2.2->seaborn) (3.0.9)\n",
      "Requirement already satisfied: six>=1.5 in c:\\users\\jmess\\appdata\\local\\programs\\python\\python39\\lib\\site-packages (from python-dateutil>=2.8.1->pandas) (1.16.0)\n",
      "Requirement already satisfied: urllib3<1.27,>=1.21.1 in c:\\users\\jmess\\appdata\\local\\programs\\python\\python39\\lib\\site-packages (from requests->torchvision) (1.26.10)\n",
      "Requirement already satisfied: idna<4,>=2.5 in c:\\users\\jmess\\appdata\\local\\programs\\python\\python39\\lib\\site-packages (from requests->torchvision) (3.3)\n",
      "Requirement already satisfied: charset-normalizer<3,>=2 in c:\\users\\jmess\\appdata\\local\\programs\\python\\python39\\lib\\site-packages (from requests->torchvision) (2.1.0)\n",
      "Requirement already satisfied: certifi>=2017.4.17 in c:\\users\\jmess\\appdata\\local\\programs\\python\\python39\\lib\\site-packages (from requests->torchvision) (2022.6.15)\n"
     ]
    }
   ],
   "source": [
    "!pip3 install torch torchvision torchaudio pandas pyYAML tqdm seaborn opencv-python numpy"
   ]
  },
  {
   "cell_type": "code",
   "execution_count": 2,
   "metadata": {},
   "outputs": [
    {
     "name": "stderr",
     "output_type": "stream",
     "text": [
      "c:\\Users\\jmess\\AppData\\Local\\Programs\\Python\\Python39\\lib\\site-packages\\tqdm\\auto.py:22: TqdmWarning: IProgress not found. Please update jupyter and ipywidgets. See https://ipywidgets.readthedocs.io/en/stable/user_install.html\n",
      "  from .autonotebook import tqdm as notebook_tqdm\n"
     ]
    }
   ],
   "source": [
    "import torch\n",
    "import cv2"
   ]
  },
  {
   "cell_type": "code",
   "execution_count": 3,
   "metadata": {},
   "outputs": [
    {
     "name": "stderr",
     "output_type": "stream",
     "text": [
      "Using cache found in C:\\Users\\jmess/.cache\\torch\\hub\\ultralytics_yolov5_master\n",
      "YOLOv5  2022-7-18 Python-3.9.13 torch-1.12.0+cpu CPU\n",
      "\n",
      "Fusing layers... \n",
      "YOLOv5s summary: 213 layers, 7225885 parameters, 0 gradients\n",
      "Adding AutoShape... \n"
     ]
    }
   ],
   "source": [
    "model = torch.hub.load('ultralytics/yolov5', 'yolov5s')"
   ]
  },
  {
   "cell_type": "code",
   "execution_count": 4,
   "metadata": {},
   "outputs": [],
   "source": [
    "def load_image(path):\n",
    "    return cv2.imread(path)[:, :, ::-1]\n"
   ]
  },
  {
   "cell_type": "code",
   "execution_count": 5,
   "metadata": {},
   "outputs": [],
   "source": [
    "def process_image(img):\n",
    "    result = model([img], size=640)\n",
    "\n",
    "    print(result.pandas().xyxy[0])\n",
    "\n",
    "    return result"
   ]
  },
  {
   "cell_type": "code",
   "execution_count": 6,
   "metadata": {},
   "outputs": [],
   "source": [
    "IMGS_PATH = ['imgs/all.png', 'imgs/bus.png', 'imgs/people.png']"
   ]
  },
  {
   "cell_type": "code",
   "execution_count": 7,
   "metadata": {},
   "outputs": [],
   "source": [
    "IMGS = []\n",
    "\n",
    "for i in IMGS_PATH:\n",
    "    IMGS.append(load_image(i))"
   ]
  },
  {
   "cell_type": "markdown",
   "metadata": {},
   "source": [
    "# a)"
   ]
  },
  {
   "cell_type": "code",
   "execution_count": 15,
   "metadata": {},
   "outputs": [
    {
     "name": "stdout",
     "output_type": "stream",
     "text": [
      "           xmin        ymin         xmax         ymax  confidence  class  \\\n",
      "0    726.216492  870.891785   967.580078  1088.871460    0.846512      2   \n",
      "1   1104.301514  841.032959  1196.471558   923.366333    0.829974      2   \n",
      "2    393.870117  922.003052   694.894958  1192.261230    0.800172      2   \n",
      "3      1.707250  910.309021    84.191330  1184.690308    0.776526      0   \n",
      "4    636.185120  826.378418   760.100464   929.397766    0.770256      2   \n",
      "5   1045.868408  804.348999  1140.609253   883.489014    0.762862      2   \n",
      "6   1600.351807  493.414764  1672.191406   587.836914    0.680482      9   \n",
      "7    256.838928  852.810669   328.951660  1052.742432    0.631074      0   \n",
      "8    447.830383  725.431458   625.831116   910.149231    0.628749      5   \n",
      "9   1189.572998  697.095337  1907.240234  1186.575684    0.597191      7   \n",
      "10  1206.703735  593.303833  1252.806030   651.825256    0.585567      9   \n",
      "11   878.548706  793.447327   911.642090   870.598999    0.522277      0   \n",
      "12   971.822571  797.682190  1003.063477   869.149353    0.472607      0   \n",
      "13   718.716797  753.658752   812.098267   850.487915    0.451698      2   \n",
      "14   396.205566  838.769409   441.134613   986.398010    0.450832      0   \n",
      "15   507.221191  523.475037   573.016846   602.472778    0.437403      9   \n",
      "16  1020.958191  670.210266  1041.742432   708.367859    0.422663      9   \n",
      "17   392.386963  924.273560   691.774841  1186.112305    0.386347      7   \n",
      "18  1196.590454  700.699097  1843.417358  1188.745605    0.296920      5   \n",
      "19   964.837463  767.659180  1010.002258   861.787720    0.285839      0   \n",
      "\n",
      "             name  \n",
      "0             car  \n",
      "1             car  \n",
      "2             car  \n",
      "3          person  \n",
      "4             car  \n",
      "5             car  \n",
      "6   traffic light  \n",
      "7          person  \n",
      "8             bus  \n",
      "9           truck  \n",
      "10  traffic light  \n",
      "11         person  \n",
      "12         person  \n",
      "13            car  \n",
      "14         person  \n",
      "15  traffic light  \n",
      "16  traffic light  \n",
      "17          truck  \n",
      "18            bus  \n",
      "19         person  \n",
      "        xmin        ymin         xmax         ymax  confidence  class name\n",
      "0  35.439453  164.285309  1411.653564  1055.357544    0.862536      5  bus\n",
      "          xmin        ymin         xmax         ymax  confidence  class  \\\n",
      "0  1028.121338  574.823120  1774.388672  1998.000000    0.915181      0   \n",
      "1   537.640442  618.084961  1406.829224  1992.961426    0.865246      0   \n",
      "\n",
      "     name  \n",
      "0  person  \n",
      "1  person  \n"
     ]
    }
   ],
   "source": [
    "for i in IMGS:\n",
    "    process_image(i)"
   ]
  },
  {
   "cell_type": "markdown",
   "metadata": {},
   "source": [
    "# b)"
   ]
  },
  {
   "cell_type": "code",
   "execution_count": 45,
   "metadata": {},
   "outputs": [],
   "source": [
    "def get_frames_result(path):\n",
    "    cap = cv2.VideoCapture(path)\n",
    "\n",
    "    lista_results = []\n",
    "    print('a')\n",
    "    while (cap.isOpened()):\n",
    "        frame = cap.read()\n",
    "\n",
    "        if frame is not None and frame[1] is not None:\n",
    "            frame = frame[1][:, :, ::-1]\n",
    "\n",
    "            t = model([frame], size=640)\n",
    "\n",
    "            pd = t.pandas().xyxy[0]\n",
    "            x = pd[pd['class'] == 'person']\n",
    "            lista_results.append(x)\n",
    "\n",
    "    print('b')\n",
    "\n",
    "    print(len(lista_results))\n",
    "    return lista_results\n"
   ]
  },
  {
   "cell_type": "code",
   "execution_count": 46,
   "metadata": {},
   "outputs": [
    {
     "name": "stdout",
     "output_type": "stream",
     "text": [
      "a\n"
     ]
    }
   ],
   "source": [
    "results = get_frames_result('videos/cross.mp4')"
   ]
  },
  {
   "cell_type": "code",
   "execution_count": 37,
   "metadata": {},
   "outputs": [
    {
     "name": "stdout",
     "output_type": "stream",
     "text": [
      "None\n"
     ]
    }
   ],
   "source": [
    "print(results)"
   ]
  }
 ],
 "metadata": {
  "kernelspec": {
   "display_name": "Python 3.9.13 64-bit",
   "language": "python",
   "name": "python3"
  },
  "language_info": {
   "codemirror_mode": {
    "name": "ipython",
    "version": 3
   },
   "file_extension": ".py",
   "mimetype": "text/x-python",
   "name": "python",
   "nbconvert_exporter": "python",
   "pygments_lexer": "ipython3",
   "version": "3.9.13"
  },
  "orig_nbformat": 4,
  "vscode": {
   "interpreter": {
    "hash": "604128b10799161e604c526e8e8fcb7c05e6b10160132d84e3b9a69829cd230a"
   }
  }
 },
 "nbformat": 4,
 "nbformat_minor": 2
}
